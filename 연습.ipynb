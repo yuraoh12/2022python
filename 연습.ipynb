{
 "cells": [
  {
   "cell_type": "code",
   "execution_count": 29,
   "metadata": {},
   "outputs": [],
   "source": [
    "# text2.txt  파일을 생성해 주세요. \n",
    "\n",
    "file1 = open(\"text2.txt\", \"wt\")\n"
   ]
  },
  {
   "cell_type": "code",
   "execution_count": 30,
   "metadata": {},
   "outputs": [],
   "source": [
    "for i in range(3, 8):\n",
    "    filename = \"test\" + str(i) + \".txt\"\n",
    "    open(filename, \"wt\")\n"
   ]
  },
  {
   "cell_type": "code",
   "execution_count": 31,
   "metadata": {},
   "outputs": [],
   "source": [
    "file2 = open(\"test2.txt\", \"wt\")\n",
    "file2.write(\"hello world\")\n",
    "file2.close()"
   ]
  },
  {
   "cell_type": "code",
   "execution_count": 32,
   "metadata": {},
   "outputs": [],
   "source": [
    "#반복문을 이용해 생성한 test3.txt 파일에 줄바꿈을 적용해서 아래 문장을 저장해 주세요.\n",
    "#한국어 깨질때  encoding=\"utf-8\"\n",
    "file3 = open(\"test.txt\", \"wt\", encoding=\"utf-8\")\n",
    "file3.write(\"안녕하세요.\\n\") \n",
    "file3.write(\"홍길동입니다.\\n\")\n",
    "file3.write(\"잘부탁드립니다.\")\n",
    "file3.close()\n"
   ]
  },
  {
   "cell_type": "code",
   "execution_count": 33,
   "metadata": {},
   "outputs": [],
   "source": [
    "#리스트를 만들어서 리스트에 있는 내용을  test4.txt에 저장을 해주세요. \n",
    "list1 = [\"사과\", \"배\", \"바나나\", \"딸기\"]\n",
    "file4 = open(\"test4.txt\", \"wt\", encoding= \"utf-8\")\n",
    "for i in list1:\n",
    "    file4.write(i+\"\\n\")\n",
    "file4.close()"
   ]
  },
  {
   "cell_type": "code",
   "execution_count": 34,
   "metadata": {},
   "outputs": [
    {
     "name": "stdout",
     "output_type": "stream",
     "text": [
      "버림하기전 원래값 1.6666666666666667\n",
      "버림하고 난 후의 값 1\n"
     ]
    }
   ],
   "source": [
    "#trunc() 버림함수 \n",
    "import math \n",
    "n1 = 3\n",
    "n2 = 5\n",
    "print(\"버림하기전 원래값 {}\".format(n2/n1))\n",
    "print(\"버림하고 난 후의 값 {}\".format(math.trunc(n2/n1)))\n"
   ]
  },
  {
   "cell_type": "code",
   "execution_count": 28,
   "metadata": {},
   "outputs": [
    {
     "name": "stdout",
     "output_type": "stream",
     "text": [
      "총 1 페이지까지 필요합니다.\n"
     ]
    }
   ],
   "source": [
    "#  ceil()  주어진 함수보다 작고 가장 가까운 정수를 찾아주는 함수 \n",
    "cnt = int(input(\"총 몇 번의 데이터를 입력받을까요?\"))\n",
    "# 한 페이지에는 10개의 데이터만 보여질 수 있다. \n",
    "page = math.ceil(cnt/10)\n",
    "print(\"총 %s 페이지까지 필요합니다.\" %page)\n"
   ]
  },
  {
   "cell_type": "code",
   "execution_count": 13,
   "metadata": {},
   "outputs": [
    {
     "name": "stdout",
     "output_type": "stream",
     "text": [
      "총 0 페이지까지 필요합니다.\n"
     ]
    }
   ],
   "source": [
    "#floor() 주어진 함수보다 작고 가장 가까운 정수를 찾아주는 함수 \n",
    "cnt = int(input(\"총 몇 번의 데이터를 입력 받을까요?\"))\n",
    "page = math.floor(cnt/10)\n",
    "print(\"총 %s 페이지까지 필요합니다.\" %page)\n"
   ]
  },
  {
   "cell_type": "code",
   "execution_count": 20,
   "metadata": {},
   "outputs": [
    {
     "name": "stdout",
     "output_type": "stream",
     "text": [
      "4.9 보다 작으면서 가장 가까운 정수는 4입니다.\n",
      "4.6 보다 작으면서 가장 가까운 정수는 4입니다.\n"
     ]
    }
   ],
   "source": [
    "n1 = 4.9\n",
    "n2 = 4.6\n",
    "print(f\"{n1} 보다 작으면서 가장 가까운 정수는 {math.floor(n1)}입니다.\")\n",
    "print(f\"{n2} 보다 작으면서 가장 가까운 정수는 {math.floor(n2)}입니다.\")\n"
   ]
  },
  {
   "cell_type": "code",
   "execution_count": 47,
   "metadata": {},
   "outputs": [
    {
     "name": "stdout",
     "output_type": "stream",
     "text": [
      "1\n",
      "2\n",
      "3\n",
      "4\n",
      "5\n",
      "6\n",
      "7\n",
      "8\n",
      "9\n"
     ]
    }
   ],
   "source": [
    "#openpyxl  가져온다\n",
    "from openpyxl import *\n",
    "#엑셀추가 \n",
    "w1 = Workbook()\n",
    "ws = w1.active\n",
    "#엑셀저장\n",
    "w1.save(\"test.xlsx\")\n",
    "#엑셀로드\n",
    "w2 = load_workbook(\"test.xlsx\")\n",
    "ws2 = w2.active\n",
    "\n",
    "#셀을 선택해서 편집하는 방법\n",
    "ws2[\"A1\"] = \"hello\"\n",
    "w2.save(\"test.xlsx\")\n",
    "ws2[\"D1\"] = \"hahahaha\"\n",
    "w2.save(\"test.xlsx\")\n",
    "\n",
    "#원하는 만큼 엑셀 편집\n",
    "num = \"aaa\"\n",
    "for row in ws2[\"A1\":\"C3\"]:\n",
    "    for cell in row:\n",
    "        cell.value = num \n",
    "w2.save(\"test.xlsx\")\n",
    "num = 1\n",
    "for row in ws2[\"A1\":\"C3\"]:\n",
    "    for cell in row:\n",
    "        \n",
    "        cell.value = num \n",
    "        num+=1\n",
    "# 원하는 만큼 셀을 조회한다. \n",
    "w2.save(\"test.xlsx\")\n",
    "for row in ws2.iter_rows(min_row=1, min_col=1, max_col=3, max_row=3):\n",
    "    for cell in row:\n",
    "        print(cell.value)"
   ]
  },
  {
   "cell_type": "code",
   "execution_count": 50,
   "metadata": {},
   "outputs": [],
   "source": [
    "#신규 엑셀 시트 생성\n",
    "#새로운 엑셀 시트는 맨 마지막 탭에 생성된다. \n",
    "wsnew = w2.create_sheet()\n",
    "#시트 이름 변경 \n",
    "wsnew.title = \"1번시트\"\n",
    "#원하는 위치에 원하는 이름으로 시트 생성  앞쪽에서 생겼으면 좋겠으니까 그 순서를 지정한거다. \n",
    "wsnew = w2.create_sheet(\"0번 시트\", 0)\n",
    "w2.save(\"test.xlsx\")\n",
    "\n"
   ]
  },
  {
   "cell_type": "code",
   "execution_count": 56,
   "metadata": {},
   "outputs": [
    {
     "name": "stdout",
     "output_type": "stream",
     "text": [
      "1\n",
      "1\n",
      "list[0]\n"
     ]
    }
   ],
   "source": [
    "list1 = [1,2,3,4]\n",
    "tuple1 = (1,2,3,4)\n",
    "print(list1[0])\n",
    "print(tuple1[0])\n",
    "#리스트는 수정 가능 \n",
    "list1[0] = 3\n",
    "print(list[0])\n",
    "\n"
   ]
  },
  {
   "cell_type": "code",
   "execution_count": 63,
   "metadata": {},
   "outputs": [],
   "source": [
    "# 1)딕셔너리 만들기\n",
    "item1 = {\"품목\":\"바나나\", \"가격\":5000, \"수량\":1, \"날짜\":\"2022년 03월 24일\"}\n",
    "item2 = {\"품목\":\"커피\", \"가격\":3000, \"수량\":2, \"날짜\":\"2022년 03월 25일\"}\n",
    "item3 = {\"품목\":\"책\", \"가격\":15000, \"수량\":1, \"날짜\":\"2022년 03월 26일\"}\n",
    "item4 = {\"품목\":\"팬\", \"가격\":2000, \"수량\":4, \"날짜\":\"2022년 03월 27일\"}\n",
    "#딕셔너리가 들어있는 리스트 만들기\n",
    "items = [item1, item2, item3, item4]\n",
    "# 3) 엑셀 파일 생성\n",
    "wb = Workbook()\n",
    "ws = wb.active\n",
    "# 4) 헤더 만들기\n",
    "ws[\"A1\"] = \"품목\"\n",
    "ws[\"B1\"] = \"가격\"\n",
    "ws[\"C1\"] = \"수량\"\n",
    "ws[\"D1\"] = \"날짜\"\n",
    "# 5) 데이터 삽입\n",
    "# 위에 in 에서 (문자열에서) 리스트 튜플 딕셔너리 사용가능함.\n",
    "i = 2\n",
    "for item in items:\n",
    "    ws[\"A\" +str(i)] = item[\"품목\"]\n",
    "    ws[\"B\" +str(i)] = item[\"가격\"]\n",
    "    ws[\"C\" +str(i)] = item[\"수량\"]\n",
    "    ws[\"D\" +str(i)] = item[\"날짜\"]   \n",
    "    i+=1\n",
    "\n",
    "wb.save('account.xlsx')"
   ]
  },
  {
   "cell_type": "code",
   "execution_count": 66,
   "metadata": {},
   "outputs": [
    {
     "name": "stdout",
     "output_type": "stream",
     "text": [
      "지금부터 5초후\n",
      "출력\n"
     ]
    }
   ],
   "source": [
    "import time\n",
    "print(\"지금부터 5초후\")\n",
    "time.sleep(5)\n",
    "print(\"출력\")"
   ]
  },
  {
   "cell_type": "code",
   "execution_count": null,
   "metadata": {},
   "outputs": [],
   "source": []
  }
 ],
 "metadata": {
  "interpreter": {
   "hash": "4e0b39fdc4f2df2992ef135d097972ec225e019845a073717c5b1bc8df292c8a"
  },
  "kernelspec": {
   "display_name": "Python 3.10.2 64-bit",
   "language": "python",
   "name": "python3"
  },
  "language_info": {
   "codemirror_mode": {
    "name": "ipython",
    "version": 3
   },
   "file_extension": ".py",
   "mimetype": "text/x-python",
   "name": "python",
   "nbconvert_exporter": "python",
   "pygments_lexer": "ipython3",
   "version": "3.10.2"
  },
  "orig_nbformat": 4
 },
 "nbformat": 4,
 "nbformat_minor": 2
}
