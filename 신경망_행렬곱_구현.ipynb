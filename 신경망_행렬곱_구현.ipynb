{
  "nbformat": 4,
  "nbformat_minor": 0,
  "metadata": {
    "colab": {
      "provenance": [],
      "collapsed_sections": [],
      "authorship_tag": "ABX9TyOdj8PJJoYdrXAKDJCuLZx5",
      "include_colab_link": true
    },
    "kernelspec": {
      "name": "python3",
      "display_name": "Python 3"
    },
    "language_info": {
      "name": "python"
    }
  },
  "cells": [
    {
      "cell_type": "markdown",
      "metadata": {
        "id": "view-in-github",
        "colab_type": "text"
      },
      "source": [
        "<a href=\"https://colab.research.google.com/github/chacha86/mldl/blob/main/%EC%8B%A0%EA%B2%BD%EB%A7%9D_%ED%96%89%EB%A0%AC%EA%B3%B1_%EA%B5%AC%ED%98%84.ipynb\" target=\"_parent\"><img src=\"https://colab.research.google.com/assets/colab-badge.svg\" alt=\"Open In Colab\"/></a>"
      ]
    },
    {
      "cell_type": "code",
      "execution_count": 38,
      "metadata": {
        "colab": {
          "base_uri": "https://localhost:8080/",
          "height": 283
        },
        "id": "MCT9hnzlyYRi",
        "outputId": "179a9e2a-90b9-4f2c-b1c0-f055b1a23bef"
      },
      "outputs": [
        {
          "output_type": "execute_result",
          "data": {
            "text/plain": [
              "[<matplotlib.lines.Line2D at 0x7f9f923a9590>]"
            ]
          },
          "metadata": {},
          "execution_count": 38
        },
        {
          "output_type": "display_data",
          "data": {
            "text/plain": [
              "<Figure size 432x288 with 1 Axes>"
            ],
            "image/png": "[encoded data removed]"
          },
          "metadata": {
            "needs_background": "light"
          }
        }
      ],
      "source": [
        "import numpy as np\n",
        "import matplotlib.pyplot as plt\n",
        "\n",
        "def step_func(x) :\n",
        "  rst = x > 0\n",
        "  return rst.astype(\"int\")\n",
        "\n",
        "\n",
        "x = np.arange(-5, 5, 0.1)\n",
        "y = step_func(x)\n",
        "plt.plot(x, y)\n",
        "\n"
      ]
    },
    {
      "cell_type": "code",
      "source": [
        "def sig_func(x) :\n",
        "  return 1 / (1 + np.exp(-x))\n",
        "\n",
        "x = np.arange(-5.0, 5.0, 0.1)\n",
        "y = sig_func(x)\n",
        "plt.plot(x, y)"
      ],
      "metadata": {
        "colab": {
          "base_uri": "https://localhost:8080/",
          "height": 283
        },
        "id": "EC8_yYMRyzpN",
        "outputId": "00a81b5b-4a0f-46fc-8269-1f558488dab5"
      },
      "execution_count": 19,
      "outputs": [
        {
          "output_type": "execute_result",
          "data": {
            "text/plain": [
              "[<matplotlib.lines.Line2D at 0x7f9f92314bd0>]"
            ]
          },
          "metadata": {},
          "execution_count": 19
        },
        {
          "output_type": "display_data",
          "data": {
            "text/plain": [
              "<Figure size 432x288 with 1 Axes>"
            ],
            "image/png": "[encoded data removed]"
          },
          "metadata": {
            "needs_background": "light"
          }
        }
      ]
    },
    {
      "cell_type": "code",
      "source": [
        "def relu(x) :\n",
        "  return np.maximum(0, x)\n",
        "\n",
        "x = np.arange(-5.0, 5.0, 0.1)\n",
        "y = relu(x)\n",
        "plt.plot(x, y)"
      ],
      "metadata": {
        "colab": {
          "base_uri": "https://localhost:8080/",
          "height": 283
        },
        "id": "YreRNXapzYZF",
        "outputId": "74ec2780-45bd-4aa2-8175-85af34c00b06"
      },
      "execution_count": 10,
      "outputs": [
        {
          "output_type": "execute_result",
          "data": {
            "text/plain": [
              "[<matplotlib.lines.Line2D at 0x7efc61118950>]"
            ]
          },
          "metadata": {},
          "execution_count": 10
        },
        {
          "output_type": "display_data",
          "data": {
            "text/plain": [
              "<Figure size 432x288 with 1 Axes>"
            ],
            "image/png": "[encoded data removed]"
          },
          "metadata": {
            "needs_background": "light"
          }
        }
      ]
    },
    {
      "cell_type": "code",
      "source": [
        "X = np.array([[-0.48, 1.24]]) # 입력1, 입력2 \n",
        "W = np.array([[0.48, 1.03, -0.33],[1.11, -0.92, 0.44]]) #입력1에 대한 각 노드 가중치, 입력2에 대한 각 노드 가중치. 층의 노드의개수는 3개\n",
        "B = np.array([[1.0, 1.0, 1.0]]) # 편향\n",
        "\n",
        "X.shape, W.shape, B.shape\n",
        "\n",
        "A = X.dot(W) + B"
      ],
      "metadata": {
        "id": "fLYT0Bqz21y-"
      },
      "execution_count": 28,
      "outputs": []
    },
    {
      "cell_type": "code",
      "source": [
        "rst = sig_func(A)\n",
        "rst.dtype"
      ],
      "metadata": {
        "colab": {
          "base_uri": "https://localhost:8080/"
        },
        "id": "f6_teOcrzjIu",
        "outputId": "0f4d6a02-0dce-444f-c079-940a2de379a3"
      },
      "execution_count": 25,
      "outputs": [
        {
          "output_type": "execute_result",
          "data": {
            "text/plain": [
              "dtype('float64')"
            ]
          },
          "metadata": {},
          "execution_count": 25
        }
      ]
    },
    {
      "cell_type": "code",
      "source": [
        "# 2층의 노드의 개수는 2개\n",
        "# 입력노드 3개 2층 노드 2개\n",
        "\n",
        "X2 = rst# 입력\n",
        "\n",
        "'''\n",
        "w11 w12 \n",
        "w21 w22 \n",
        "w31 w23 \n",
        "'''\n",
        "#W2 = np.array([[0.48, 1.03], [1.11, -0.92], [1.11, -0.92]])\n",
        "W2 = np.array([[0.32,-0.28], [0.44, 0.84], [0.14, -0.33]]) # 입력1에 대한 각 노드 가중치, 입력2에 대한 각 노드 가중치, 입력3에 대한 각 노드 가중치\n",
        "B2 = np.array([[1,1]]) # 편향 -> 출력의 개수와 같게\n",
        "\n",
        "rst2 = X2.dot(W2) + B2"
      ],
      "metadata": {
        "id": "cqYppn052zuW"
      },
      "execution_count": 57,
      "outputs": []
    },
    {
      "cell_type": "code",
      "source": [
        "def identity_func(x) :\n",
        "  return x\n",
        "\n",
        "\n",
        "rst3 = identity_func(rst2)\n",
        "rst3\n"
      ],
      "metadata": {
        "colab": {
          "base_uri": "https://localhost:8080/"
        },
        "id": "uIXrZzxc5zdG",
        "outputId": "8195d364-3fd2-4f35-aa36-cdb5b963b3b6"
      },
      "execution_count": 58,
      "outputs": [
        {
          "output_type": "execute_result",
          "data": {
            "text/plain": [
              "array([[1.55732836, 0.76103815]])"
            ]
          },
          "metadata": {},
          "execution_count": 58
        }
      ]
    }
  ]
}