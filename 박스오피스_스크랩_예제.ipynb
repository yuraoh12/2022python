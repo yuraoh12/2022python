{
  "nbformat": 4,
  "nbformat_minor": 0,
  "metadata": {
    "colab": {
      "provenance": [],
      "authorship_tag": "ABX9TyOlg19yQd3NwGrZnU3rFXRj",
      "include_colab_link": true
    },
    "kernelspec": {
      "name": "python3",
      "display_name": "Python 3"
    },
    "language_info": {
      "name": "python"
    }
  },
  "cells": [
    {
      "cell_type": "markdown",
      "metadata": {
        "id": "view-in-github",
        "colab_type": "text"
      },
      "source": [
        "<a href=\"https://colab.research.google.com/github/chacha86/pythonai/blob/main/%EB%B0%95%EC%8A%A4%EC%98%A4%ED%94%BC%EC%8A%A4_%EC%8A%A4%ED%81%AC%EB%9E%A9_%EC%98%88%EC%A0%9C.ipynb\" target=\"_parent\"><img src=\"https://colab.research.google.com/assets/colab-badge.svg\" alt=\"Open In Colab\"/></a>"
      ]
    },
    {
      "cell_type": "code",
      "execution_count": null,
      "metadata": {
        "colab": {
          "base_uri": "https://localhost:8080/",
          "height": 53
        },
        "id": "ROSNsigl-AAM",
        "outputId": "57adaa9d-9c5c-44a7-e6f7-8d3e8e068705"
      },
      "outputs": [
        {
          "output_type": "execute_result",
          "data": {
            "text/plain": [
              "'https://search.naver.com/search.naver?where=nexearch&sm=tab_etc&pkid=68&os=26045925&qvt=0&query=%EC%8A%A4%EC%A6%88%EB%A9%94%EC%9D%98%20%EB%AC%B8%EB%8B%A8%EC%86%8D'"
            ],
            "application/vnd.google.colaboratory.intrinsic+json": {
              "type": "string"
            }
          },
          "metadata": {},
          "execution_count": 9
        }
      ],
      "source": [
        "import requests\n",
        "\n",
        "## 브라우저인 척 하기위해 헤더 정보에 브라우저 정보 포함\n",
        "headers = {\n",
        "    'User-Agent' : 'Mozilla/5.0 (Windows NT 10.0; Win64; x64) AppleWebKit/537.36 (KHTML, like Gecko) Chrome/102.0.0.0 Safari/537.36'\n",
        "}\n",
        "\n",
        "## 해당 url로 요청 보내서 html 문서 받아오기\n",
        "r = requests.get('https://search.naver.com/search.naver?where=nexearch&sm=tab_etc&qvt=0&query=2023%EB%85%84%20%EC%98%81%ED%99%94%20%EC%88%9C%EC%9C%84', headers=headers)\n",
        "    \n",
        "## html 문서 가져오기\n",
        "html_doc = r.text\n",
        "\n",
        "## BeautifulSoup 객체에 넘겨 파싱하기(정보를 태그 단위로 쪼개기)\n",
        "from bs4 import BeautifulSoup\n",
        "soup = BeautifulSoup(html_doc, 'html.parser')\n",
        "\n",
        "\n",
        "## css 선택자를 사용하기 위한 함수 =>\n",
        "### 1. select()  => 결과가 list\n",
        "### 2. select_one() => 결과가 1개\n",
        "\n",
        "## 텍스트와 속성값 얻기\n",
        "### 1. 태그.text\n",
        "### 2. 태그[key]\n",
        "###    - key = value\n",
        "\n",
        "# 1. 언론사 이름과 링크\n",
        "\n",
        "\n",
        "boxes = soup.select('._content .movie_info')\n",
        "movie_list = []\n",
        "\n",
        "for box in boxes :\n",
        "\n",
        "  atag = box.select_one('a')\n",
        "\n",
        "  name = atag.select_one('strong').text\n",
        "  link = atag['href']\n",
        "\n",
        "  movie = {\n",
        "      'name' : name,\n",
        "      'link' : link\n",
        "  }\n",
        "\n",
        "  movie_list.append(movie)\n",
        "\n",
        "main_url = 'https://search.naver.com/search.naver'\n",
        "\n",
        "\n",
        "## 영화 상세정보 링크는 main_url과 조합해서 완싱해줘야 합니다.\n",
        "main_url + movie_list[0]['link']\n",
        "\n"
      ]
    }
  ]
}