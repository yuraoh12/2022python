{
  "nbformat": 4,
  "nbformat_minor": 0,
  "metadata": {
    "colab": {
      "provenance": [],
      "authorship_tag": "ABX9TyMQixJP3UDTkszkxdkIms8u",
      "include_colab_link": true
    },
    "kernelspec": {
      "name": "python3",
      "display_name": "Python 3"
    },
    "language_info": {
      "name": "python"
    }
  },
  "cells": [
    {
      "cell_type": "markdown",
      "metadata": {
        "id": "view-in-github",
        "colab_type": "text"
      },
      "source": [
        "<a href=\"https://colab.research.google.com/github/chacha86/pythonai/blob/main/%EC%9B%B9%EC%8A%A4%ED%81%AC%EB%9E%A9%ED%95%911_%EB%84%A4%EC%9D%B4%EB%B2%84_%EB%9E%AD%ED%82%B9_%EB%89%B4%EC%8A%A4_%EA%B0%80%EC%A0%B8%EC%98%A4%EA%B8%B0.ipynb\" target=\"_parent\"><img src=\"https://colab.research.google.com/assets/colab-badge.svg\" alt=\"Open In Colab\"/></a>"
      ]
    },
    {
      "cell_type": "code",
      "execution_count": 2,
      "metadata": {
        "colab": {
          "base_uri": "https://localhost:8080/",
          "height": 89
        },
        "id": "o0h-pTGhPx10",
        "outputId": "26f241ce-2c84-4b3d-c006-1b587cb05a88"
      },
      "outputs": [
        {
          "output_type": "execute_result",
          "data": {
            "text/plain": [
              "'<html><head><title>The Dormouse\\'s story</title></head>\\n<body>\\n<p class=\"title\"><b>The Dormouse\\'s story</b></p>\\n\\n<p class=\"story\">Once upon a time there were three little sisters; and their names were\\n<a href=\"http://example.com/elsie\" class=\"sister\" id=\"link1\">Elsie</a>,\\n<a href=\"http://example.com/lacie\" class=\"sister\" id=\"link2\">Lacie</a> and\\n<a href=\"http://example.com/tillie\" class=\"sister\" id=\"link3\">Tillie</a>;\\nand they lived at the bottom of a well.</p>\\n\\n<p class=\"story\">...</p>\\n'"
            ],
            "application/vnd.google.colaboratory.intrinsic+json": {
              "type": "string"
            }
          },
          "metadata": {},
          "execution_count": 2
        }
      ],
      "source": [
        "html_doc = \"\"\"<html><head><title>The Dormouse's story</title></head>\n",
        "<body>\n",
        "<p class=\"title\"><b>The Dormouse's story</b></p>\n",
        "\n",
        "<p class=\"story\">Once upon a time there were three little sisters; and their names were\n",
        "<a href=\"http://example.com/elsie\" class=\"sister\" id=\"link1\">Elsie</a>,\n",
        "<a href=\"http://example.com/lacie\" class=\"sister\" id=\"link2\">Lacie</a> and\n",
        "<a href=\"http://example.com/tillie\" class=\"sister\" id=\"link3\">Tillie</a>;\n",
        "and they lived at the bottom of a well.</p>\n",
        "\n",
        "<p class=\"story\">...</p>\n",
        "\"\"\"\n",
        "\n",
        "\n",
        "html_doc"
      ]
    },
    {
      "cell_type": "code",
      "source": [
        "from bs4 import BeautifulSoup\n",
        "soup = BeautifulSoup(html_doc, 'html.parser')\n",
        "\n",
        "print(soup.prettify())"
      ],
      "metadata": {
        "id": "nMCUriDEjX6-"
      },
      "execution_count": null,
      "outputs": []
    },
    {
      "cell_type": "code",
      "source": [
        "soup.title\n",
        "\n",
        "soup.title.string"
      ],
      "metadata": {
        "colab": {
          "base_uri": "https://localhost:8080/",
          "height": 35
        },
        "id": "SyE4g4e1j3kC",
        "outputId": "3d806942-e574-490e-8848-2ce1d7b3fea1"
      },
      "execution_count": 6,
      "outputs": [
        {
          "output_type": "execute_result",
          "data": {
            "text/plain": [
              "\"The Dormouse's story\""
            ],
            "application/vnd.google.colaboratory.intrinsic+json": {
              "type": "string"
            }
          },
          "metadata": {},
          "execution_count": 6
        }
      ]
    },
    {
      "cell_type": "code",
      "source": [
        "import requests\n",
        "\n",
        "## 브라우저인 척 하기위해 헤더 정보에 브라우저 정보 포함\n",
        "headers = {\n",
        "    'User-Agent' : 'Mozilla/5.0 (Windows NT 10.0; Win64; x64) AppleWebKit/537.36 (KHTML, like Gecko) Chrome/102.0.0.0 Safari/537.36'\n",
        "}\n",
        "\n",
        "## 해당 url로 요청 보내서 html 문서 받아오기\n",
        "r = requests.get('https://news.naver.com/main/ranking/popularDay.naver', headers=headers)\n"
      ],
      "metadata": {
        "id": "WUIBNw62kvua"
      },
      "execution_count": 9,
      "outputs": []
    },
    {
      "cell_type": "code",
      "source": [
        "\n",
        "\n",
        "## html 문서 가져오기\n",
        "html_doc = r.text\n",
        "\n",
        "## BeautifulSoup 객체에 넘겨 파싱하기(정보를 태그 단위로 쪼개기)\n",
        "from bs4 import BeautifulSoup\n",
        "soup = BeautifulSoup(html_doc, 'html.parser')"
      ],
      "metadata": {
        "id": "rnHzTLAHnG6q"
      },
      "execution_count": 11,
      "outputs": []
    },
    {
      "cell_type": "code",
      "source": [
        "## 선택자를 이용해 원하는 태그에 접근하기\n",
        "soup.select('div#u_skip')"
      ],
      "metadata": {
        "id": "a_E9bIsenamc"
      },
      "execution_count": null,
      "outputs": []
    },
    {
      "cell_type": "code",
      "source": [
        "## class 값이 rankingnews_box인 div 다 가져오기\n",
        "result = soup.select('div.rankingnews_box')\n",
        "\n",
        "## 위 result에서 첫번째 태그만 선택해서 해당 태그 안에서 class 값이 rankingnews_list인 ul 태그 다 가져오기\n",
        "news_list = result[0].select('ul.rankingnews_list')\n",
        "\n",
        "## 위 news_list에서 첫번째 태그만 선택해서 해당 태그 안에서 class 값이 list_content인 div 밑에 있는 a 태그 다 가져오기\n",
        "title_list = news_list[0].select('div.list_content a')\n",
        "\n",
        "## 위에서 가져온 a 태그들 중 첫번째 태그만 선택\n",
        "atag = title_list[0]\n",
        "\n",
        "## 태그가 감싸고 있는 텍스트 가져오기\n",
        "atag.text\n",
        "\n",
        "## 태그가 가지고 있는 속성값 가져오기\n",
        "atag['class']\n",
        "atag['href']\n",
        "\n",
        "for title in title_list :\n",
        "  print(title.text)\n",
        "  print(title['href'])\n"
      ],
      "metadata": {
        "colab": {
          "base_uri": "https://localhost:8080/"
        },
        "id": "sG7harmuoB8P",
        "outputId": "9b5ea6aa-668e-4d37-8e3e-89bd5bb8d9c0"
      },
      "execution_count": 40,
      "outputs": [
        {
          "output_type": "stream",
          "name": "stdout",
          "text": [
            "“지금 뭘 본거야”…대낮 도로 위 알몸男, 뛰어다니다 갑자기 ‘기도’\n",
            "https://n.news.naver.com/article/009/0005116680?ntype=RANKING\n",
            "[단독] JTBC 男기자 2명, 해외출장서 女기자들 각각 성추행\n",
            "https://n.news.naver.com/article/009/0005116656?ntype=RANKING\n",
            "“주 4일 근무 시켜줄게”...공무원 인기 시들해진 이 나라, 특단의 대책은\n",
            "https://n.news.naver.com/article/009/0005116556?ntype=RANKING\n",
            "“엄마 때리지 마”…친오빠 흉기로 찌른 40대, 살인미수 혐의 체포\n",
            "https://n.news.naver.com/article/009/0005116431?ntype=RANKING\n",
            "[단독] “다짜고짜 또라이래요”...작은 기업일수록 더 지독한 괴롭힘\n",
            "https://n.news.naver.com/article/009/0005116803?ntype=RANKING\n"
          ]
        }
      ]
    },
    {
      "cell_type": "code",
      "source": [
        "\n"
      ],
      "metadata": {
        "id": "phLGq4hMqo3I"
      },
      "execution_count": null,
      "outputs": []
    }
  ]
}