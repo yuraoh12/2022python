{
 "cells": [
  {
   "cell_type": "code",
   "execution_count": 4,
   "metadata": {},
   "outputs": [
    {
     "name": "stdout",
     "output_type": "stream",
     "text": [
      "1월는 31까지 있습니다.\n",
      "2월는 28까지 있습니다.\n",
      "3월는 31까지 있습니다.\n"
     ]
    }
   ],
   "source": [
    "# 문제 : 딕셔너리에 각 달의 마지막 날들을 한번에 담고, keys()로 key, value 순회출력\n",
    "m = {\"1월\": 31, \"2월\":28, \"3월\":31}\n",
    "for month in m.keys():\n",
    "    endday = m[month]\n",
    "    print(month+\"는 \"+ str(endday)+\"까지 있습니다.\")"
   ]
  },
  {
   "cell_type": "code",
   "execution_count": 8,
   "metadata": {},
   "outputs": [
    {
     "name": "stdout",
     "output_type": "stream",
     "text": [
      "31\n",
      "28\n",
      "31\n"
     ]
    }
   ],
   "source": [
    "# 문제 : 딕셔너리에 각 달의 마지막 날들을 한번에 담고, values()로 value 순회출력 value는 오른쪽 값들 31, 28 , 31 이다. \n",
    "m = {\"1월\":31, \"2월\":28, \"3월\":31}\n",
    "for endday in m.values():\n",
    "    print(endday)\n"
   ]
  },
  {
   "cell_type": "code",
   "execution_count": 10,
   "metadata": {},
   "outputs": [
    {
     "name": "stdout",
     "output_type": "stream",
     "text": [
      "1월 31\n",
      "2월 28\n",
      "3월 31\n"
     ]
    }
   ],
   "source": [
    "# 문제 : 딕셔너리에 각 달의 마지막 날들을 한번에 담고, items()로 key, value 순회출력\n",
    "m = {\"1월\":31, \"2월\":28, \"3월\":31}\n",
    "for i, j in m.items():\n",
    "    print(i, j)"
   ]
  },
  {
   "cell_type": "code",
   "execution_count": 12,
   "metadata": {},
   "outputs": [
    {
     "name": "stdout",
     "output_type": "stream",
     "text": [
      "1월 31\n",
      "2월 28\n",
      "3월 31\n"
     ]
    }
   ],
   "source": [
    "# 문제 : 딕셔너리에 각 달의 마지막 날들을 한번에 담고, items()로 key, value 순회출력\n",
    "m = {\"1월\":31, \"2월\":28, \"3월\":31}\n",
    "for key, value in m.items():\n",
    "    print(key, value)"
   ]
  },
  {
   "cell_type": "code",
   "execution_count": 16,
   "metadata": {},
   "outputs": [
    {
     "name": "stdout",
     "output_type": "stream",
     "text": [
      "{'1월': 31, '2월': 28, '3월': 31}\n",
      "{'1월': 31, '2월': 28}\n"
     ]
    }
   ],
   "source": [
    "# (문제) 딕셔너리에 각 달의 마지막 날들을 한번에 담고, 3월 정보를 제거\n",
    "m = {\"1월\":31, \"2월\":28, \"3월\":31}\n",
    "print(m)\n",
    "del m[\"3월\"]\n",
    "print(m)"
   ]
  },
  {
   "cell_type": "code",
   "execution_count": 17,
   "metadata": {},
   "outputs": [
    {
     "name": "stdout",
     "output_type": "stream",
     "text": [
      "{'1월': 31, '2월': 29, '3월': 31}\n"
     ]
    }
   ],
   "source": [
    "# 문제 : 딕셔너리에 각 달의 마지막 날들을 한번에 담고, 2월을 29일로 수정\n",
    "m = {\"1월\":31, \"2월\":28, \"3월\":31}\n",
    "m[\"2월\"] = 29\n",
    "print(m)\n"
   ]
  },
  {
   "cell_type": "code",
   "execution_count": 25,
   "metadata": {},
   "outputs": [
    {
     "name": "stdout",
     "output_type": "stream",
     "text": [
      "{'a': 1, 'b': 3, 'c': 4}\n",
      "{'b': 3, 'c': 4}\n"
     ]
    }
   ],
   "source": [
    "m1 = {\"a\": 1, \"b\":2}\n",
    "m2 = {\"b\":3, \"c\":4}\n",
    "# m1.update(m2) m1에다가 m2를 업데이트 한다. \n",
    "print(m1)\n",
    "print(m2)"
   ]
  },
  {
   "cell_type": "code",
   "execution_count": 26,
   "metadata": {},
   "outputs": [
    {
     "name": "stdout",
     "output_type": "stream",
     "text": [
      "{'1월': 31, '2월': 29, '3월': 31, '4월': 31, '5월': 31}\n"
     ]
    }
   ],
   "source": [
    "# 문제 : 딕셔너리에 각 달의 마지막 날들을 한번에 담고, \n",
    "# update를 이용하여, 2월을 29일로 수정하고 4월, 5월의 정보도 추가\n",
    "m1 = {\"1월\":31, \"2월\":28, \"3월\":31}\n",
    "m2 = {\"2월\" : 29, \"4월\" : 31, \"5월\" : 31}\n",
    "m1.update(m2)\n",
    "print(m1)"
   ]
  },
  {
   "cell_type": "code",
   "execution_count": 29,
   "metadata": {},
   "outputs": [
    {
     "name": "stdout",
     "output_type": "stream",
     "text": [
      "{'영수': 11, '영희': 12, '철수': 13, '민수': 14, '희수': 15}\n",
      "{'영수': 11, '영희': 12, '철수': 13, '민수': 14}\n",
      "{'영희': 12, '철수': 13, '민수': 14}\n",
      "{'영희': 12, '철수': 13, '민수': 14, '영수': 11}\n"
     ]
    }
   ],
   "source": [
    "# 문제 : 영수, 영희, 철수, 민수의 나이를 딕셔너리에 담기\n",
    "# 조건 : 가장 효율적인 데이터구조를 유지해주시면 됩니다.\n",
    "# 변수명을 명확하고 간결하게 지어주시면 됩니다.\n",
    "# 영수 : 11살, 영희 : 12살, 철수 : 13살, \n",
    "# 민수 : 14살\n",
    "# 15살 희수가 있었으나 전학을 갔다. 기록을 삭제해야 한다.\n",
    "\n",
    "ages = {\"영수\" : 11, \"영희\" :12, \"철수\":13, \"민수\":14}\n",
    "ages[\"희수\"] = 15\n",
    "print(ages)\n",
    "del ages[\"희수\"]\n",
    "print(ages) \n",
    "del ages[\"영수\"]\n",
    "print(ages)\n",
    "ages[\"영수\"] = 11\n",
    "print(ages)"
   ]
  },
  {
   "cell_type": "code",
   "execution_count": 31,
   "metadata": {},
   "outputs": [
    {
     "name": "stdout",
     "output_type": "stream",
     "text": [
      "영수의 나이는11입니다.\n",
      "영희의 나이는12입니다.\n",
      "철수의 나이는13입니다.\n",
      "민수의 나이는14입니다.\n"
     ]
    }
   ],
   "source": [
    "# 문제 : 영수, 영희, 철수, 민수의 나이를 딕셔너리에 담고, 데이터를 넣은 순서대로 순회출력\n",
    "ages = {\"영수\":11, \"영희\":12, \"철수\":13, \"민수\":14}\n",
    "for name, age in ages.items():\n",
    "    print(name+\"의 나이는\"+str(age)+\"입니다.\")"
   ]
  },
  {
   "cell_type": "code",
   "execution_count": 32,
   "metadata": {},
   "outputs": [],
   "source": [
    "#  클래스의 이름은 대문자로 작성해야 한다. \n",
    "#  특수문자나 숫자로 시작하면 안 된다.\n",
    "# class 클래스이름:\n",
    "#              데이터 속성\n",
    "#              데이터를 이용한 함수\n",
    "#  class Person:\n",
    "#  init을 이용하지 않고 변수를 선언하면 원본 class에 저장된다.\n",
    "        #  def__init__(self, age, name):\n",
    "# init을 이용해 데이터를 세팅하면 복사본self에 데이터가 저장이 된다. 여기서 self란 init을 수행하는 복사본(객체)이다.       \n",
    "#          age = 21\n",
    "#          name = \"\"\n",
    "        #  def introduce(self):\n",
    "                    #print(\"안녕하세요 저는 {}살 {}입니다\".format(self.age, self.name))\n",
    "\n",
    "#   p1 = Person()\n",
    "#   p1.age = 24\n",
    "#   p1.name = Person() = \"홍길순\"\n",
    "#   p1.introduce() \n",
    "\n"
   ]
  },
  {
   "cell_type": "code",
   "execution_count": 35,
   "metadata": {},
   "outputs": [
    {
     "name": "stdout",
     "output_type": "stream",
     "text": [
      "자동차가 달립니다.\n",
      "자동차가 달립니다.\n",
      "자동차가 달립니다.\n",
      "자동차가 달립니다.\n",
      "자동차가 달립니다.\n",
      "자동차가 달립니다.\n"
     ]
    }
   ],
   "source": [
    "# 문제 : 자동차가 3번 달리게 해주세요.\n",
    "# 출력 : 자동차가 달립니다.\n",
    "class Car :\n",
    "  def drive(self):\n",
    "    print(\"자동차가 달립니다.\")\n",
    "# v1. 1개의 자동차가 3번 달리게 해주세요.\n",
    "c1 = Car()\n",
    "c1.drive()\n",
    "c1.drive()\n",
    "c1.drive()\n",
    "#c1.drive() c1.drive()v2. 3개의 자동차가 1번씩 달리게 해주세요.\n",
    "c2 = Car()\n",
    "c3 = Car()\n",
    "c1.drive()\n",
    "c2.drive()\n",
    "c3.drive()\n",
    "# 자동차가 달립니다.\n",
    "# 자동차가 달립니다.\n",
    "# 자동차가 달립니다.\n",
    "# 자동차가 달립니다.\n",
    "# 자동차가 달립니다.\n",
    "# 자동차가 달립니다."
   ]
  },
  {
   "cell_type": "code",
   "execution_count": 37,
   "metadata": {},
   "outputs": [
    {
     "name": "stdout",
     "output_type": "stream",
     "text": [
      "자동차가 최대속력 220km로 달립니다.\n",
      "자동차가 최대속력 250km로 달립니다.\n"
     ]
    }
   ],
   "source": [
    "# 문제 : 자동차 객체를 담을 변수를 만들어주세요.\n",
    "# 자동차 객체를 변수에 담고 그 변수를 이용해 최고속력이 서로 다르게 만들어주세요.\n",
    "\n",
    "# 각 자동차가 자신의 최고속력으로 달리게 해주세요.\n",
    "\n",
    "# 출력 : 자동차가 최대속력 220km로 달립니다.\n",
    "# 출력 : 자동차가 최대속력 250km로 달립니다.\n",
    "\n",
    "class Car  :\n",
    "    maxV = 0\n",
    "    def drive(self):\n",
    "        print(\"자동차가 최대속력 {}km로 달립니다.\".format(self.maxV))\n",
    "c1 = Car()\n",
    "c2 = Car()\n",
    "c1. maxV = 220\n",
    "c2. maxV = 250\n",
    "c1. drive()\n",
    "c2. drive()"
   ]
  },
  {
   "cell_type": "code",
   "execution_count": 1,
   "metadata": {},
   "outputs": [
    {
     "ename": "NameError",
     "evalue": "name 'def__init' is not defined",
     "output_type": "error",
     "traceback": [
      "\u001b[1;31m---------------------------------------------------------------------------\u001b[0m",
      "\u001b[1;31mNameError\u001b[0m                                 Traceback (most recent call last)",
      "\u001b[1;32mc:\\오유라\\연습2.ipynb Cell 14'\u001b[0m in \u001b[0;36m<cell line: 9>\u001b[1;34m()\u001b[0m\n\u001b[0;32m      <a href='vscode-notebook-cell:/c%3A/%EC%98%A4%EC%9C%A0%EB%9D%BC/%EC%97%B0%EC%8A%B52.ipynb#ch0000013?line=0'>1</a>\u001b[0m \u001b[39m# 문제 : 자동차 객체를 담을 변수를 만들어주세요.\u001b[39;00m\n\u001b[0;32m      <a href='vscode-notebook-cell:/c%3A/%EC%98%A4%EC%9C%A0%EB%9D%BC/%EC%97%B0%EC%8A%B52.ipynb#ch0000013?line=1'>2</a>\u001b[0m \u001b[39m# 자동차 객체를 변수에 담고 그 변수를 이용해 최고속력이 서로 다르게 만들어주세요.\u001b[39;00m\n\u001b[0;32m      <a href='vscode-notebook-cell:/c%3A/%EC%98%A4%EC%9C%A0%EB%9D%BC/%EC%97%B0%EC%8A%B52.ipynb#ch0000013?line=2'>3</a>\u001b[0m \n\u001b[1;32m   (...)\u001b[0m\n\u001b[0;32m      <a href='vscode-notebook-cell:/c%3A/%EC%98%A4%EC%9C%A0%EB%9D%BC/%EC%97%B0%EC%8A%B52.ipynb#ch0000013?line=5'>6</a>\u001b[0m \u001b[39m# 출력 : 자동차가 최대속력 220km로 달립니다.\u001b[39;00m\n\u001b[0;32m      <a href='vscode-notebook-cell:/c%3A/%EC%98%A4%EC%9C%A0%EB%9D%BC/%EC%97%B0%EC%8A%B52.ipynb#ch0000013?line=6'>7</a>\u001b[0m \u001b[39m# 출력 : 자동차가 최대속력 250km로 달립니다.\u001b[39;00m\n\u001b[1;32m----> <a href='vscode-notebook-cell:/c%3A/%EC%98%A4%EC%9C%A0%EB%9D%BC/%EC%97%B0%EC%8A%B52.ipynb#ch0000013?line=8'>9</a>\u001b[0m \u001b[39mclass\u001b[39;00m \u001b[39mCar\u001b[39;00m :\n\u001b[0;32m     <a href='vscode-notebook-cell:/c%3A/%EC%98%A4%EC%9C%A0%EB%9D%BC/%EC%97%B0%EC%8A%B52.ipynb#ch0000013?line=9'>10</a>\u001b[0m     def__init\n",
      "\u001b[1;32mc:\\오유라\\연습2.ipynb Cell 14'\u001b[0m in \u001b[0;36mCar\u001b[1;34m()\u001b[0m\n\u001b[0;32m      <a href='vscode-notebook-cell:/c%3A/%EC%98%A4%EC%9C%A0%EB%9D%BC/%EC%97%B0%EC%8A%B52.ipynb#ch0000013?line=8'>9</a>\u001b[0m \u001b[39mclass\u001b[39;00m \u001b[39mCar\u001b[39;00m :\n\u001b[1;32m---> <a href='vscode-notebook-cell:/c%3A/%EC%98%A4%EC%9C%A0%EB%9D%BC/%EC%97%B0%EC%8A%B52.ipynb#ch0000013?line=9'>10</a>\u001b[0m     def__init\n",
      "\u001b[1;31mNameError\u001b[0m: name 'def__init' is not defined"
     ]
    }
   ],
   "source": [
    "# 문제 : 자동차 객체를 담을 변수를 만들어주세요.\n",
    "# 자동차 객체를 변수에 담고 그 변수를 이용해 최고속력이 서로 다르게 만들어주세요.\n",
    "\n",
    "# 각 자동차가 자신의 최고속력으로 달리게 해주세요.\n",
    "\n",
    "# 출력 : 자동차가 최대속력 220km로 달립니다.\n",
    "# 출력 : 자동차가 최대속력 250km로 달립니다.\n",
    "\n",
    "class Car :\n",
    "    def__init "
   ]
  },
  {
   "cell_type": "code",
   "execution_count": null,
   "metadata": {},
   "outputs": [],
   "source": [
    "def func1"
   ]
  }
 ],
 "metadata": {
  "interpreter": {
   "hash": "4e0b39fdc4f2df2992ef135d097972ec225e019845a073717c5b1bc8df292c8a"
  },
  "kernelspec": {
   "display_name": "Python 3.10.2 64-bit",
   "language": "python",
   "name": "python3"
  },
  "language_info": {
   "codemirror_mode": {
    "name": "ipython",
    "version": 3
   },
   "file_extension": ".py",
   "mimetype": "text/x-python",
   "name": "python",
   "nbconvert_exporter": "python",
   "pygments_lexer": "ipython3",
   "version": "3.10.2"
  },
  "orig_nbformat": 4
 },
 "nbformat": 4,
 "nbformat_minor": 2
}
