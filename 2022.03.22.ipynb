{
 "cells": [
  {
   "cell_type": "code",
   "execution_count": 4,
   "metadata": {},
   "outputs": [
    {
     "ename": "NameError",
     "evalue": "name 'ex1' is not defined",
     "output_type": "error",
     "traceback": [
      "\u001b[1;31m---------------------------------------------------------------------------\u001b[0m",
      "\u001b[1;31mNameError\u001b[0m                                 Traceback (most recent call last)",
      "\u001b[1;32mc:\\오유라\\2022.03.22.ipynb Cell 1'\u001b[0m in \u001b[0;36m<cell line: 2>\u001b[1;34m()\u001b[0m\n\u001b[0;32m      <a href='vscode-notebook-cell:/c%3A/%EC%98%A4%EC%9C%A0%EB%9D%BC/2022.03.22.ipynb#ch0000000?line=0'>1</a>\u001b[0m \u001b[39mimport\u001b[39;00m \u001b[39mexam1\u001b[39;00m\n\u001b[1;32m----> <a href='vscode-notebook-cell:/c%3A/%EC%98%A4%EC%9C%A0%EB%9D%BC/2022.03.22.ipynb#ch0000000?line=1'>2</a>\u001b[0m ex1\u001b[39m.\u001b[39mfunc1()\n",
      "\u001b[1;31mNameError\u001b[0m: name 'ex1' is not defined"
     ]
    }
   ],
   "source": [
    "import exam1\n",
    "ex1.func1()\n"
   ]
  },
  {
   "cell_type": "code",
   "execution_count": 5,
   "metadata": {},
   "outputs": [
    {
     "ename": "ModuleNotFoundError",
     "evalue": "No module named 'ex2'",
     "output_type": "error",
     "traceback": [
      "\u001b[1;31m---------------------------------------------------------------------------\u001b[0m",
      "\u001b[1;31mModuleNotFoundError\u001b[0m                       Traceback (most recent call last)",
      "\u001b[1;32mc:\\오유라\\2022.03.22.ipynb Cell 2'\u001b[0m in \u001b[0;36m<cell line: 1>\u001b[1;34m()\u001b[0m\n\u001b[1;32m----> <a href='vscode-notebook-cell:/c%3A/%EC%98%A4%EC%9C%A0%EB%9D%BC/2022.03.22.ipynb#ch0000001?line=0'>1</a>\u001b[0m \u001b[39mimport\u001b[39;00m \u001b[39mex2\u001b[39;00m\n\u001b[0;32m      <a href='vscode-notebook-cell:/c%3A/%EC%98%A4%EC%9C%A0%EB%9D%BC/2022.03.22.ipynb#ch0000001?line=1'>2</a>\u001b[0m ex2\u001b[39m.\u001b[39mfunc1()\n",
      "\u001b[1;31mModuleNotFoundError\u001b[0m: No module named 'ex2'"
     ]
    }
   ],
   "source": [
    "import ex2\n",
    "ex2.func1()"
   ]
  },
  {
   "cell_type": "code",
   "execution_count": 11,
   "metadata": {},
   "outputs": [
    {
     "name": "stdout",
     "output_type": "stream",
     "text": [
      "['c:\\\\오유라', 'C:\\\\Users\\\\Administrator\\\\AppData\\\\Local\\\\Programs\\\\Python\\\\Python310\\\\python310.zip', 'C:\\\\Users\\\\Administrator\\\\AppData\\\\Local\\\\Programs\\\\Python\\\\Python310\\\\DLLs', 'C:\\\\Users\\\\Administrator\\\\AppData\\\\Local\\\\Programs\\\\Python\\\\Python310\\\\lib', 'C:\\\\Users\\\\Administrator\\\\AppData\\\\Local\\\\Programs\\\\Python\\\\Python310', '', 'C:\\\\Users\\\\Administrator\\\\AppData\\\\Roaming\\\\Python\\\\Python310\\\\site-packages', 'C:\\\\Users\\\\Administrator\\\\AppData\\\\Roaming\\\\Python\\\\Python310\\\\site-packages\\\\win32', 'C:\\\\Users\\\\Administrator\\\\AppData\\\\Roaming\\\\Python\\\\Python310\\\\site-packages\\\\win32\\\\lib', 'C:\\\\Users\\\\Administrator\\\\AppData\\\\Roaming\\\\Python\\\\Python310\\\\site-packages\\\\Pythonwin', 'C:\\\\Users\\\\Administrator\\\\AppData\\\\Local\\\\Programs\\\\Python\\\\Python310\\\\lib\\\\site-packages', 'C:\\\\py_text2', 'C:\\\\py_text2', 'C:\\\\py_text2', 'C:\\\\py_text2']\n",
      "모듈의 첫번째 함수입니다.\n"
     ]
    }
   ],
   "source": [
    "#경로를 추가하는 작업을 할때  sys 모듈 사용한다. \n",
    "import sys\n",
    "print(sys.path)\n",
    "sys.path.append('C:\\py_text2')\n",
    "import emx1\n",
    "print(emx1.func2())\n"
   ]
  },
  {
   "cell_type": "code",
   "execution_count": 14,
   "metadata": {},
   "outputs": [
    {
     "name": "stdout",
     "output_type": "stream",
     "text": [
      "모듈의 첫번째 함수입니다.\n"
     ]
    }
   ],
   "source": [
    "from emx1 import func2, func3 \n",
    "print(emx1.func1())"
   ]
  },
  {
   "cell_type": "code",
   "execution_count": 21,
   "metadata": {},
   "outputs": [
    {
     "name": "stdout",
     "output_type": "stream",
     "text": [
      "모듈안에 있는 첫번째 함수입니다.\n",
      "모듈안에 있는 첫번째 함수입니다.\n",
      "모듈의 첫번째 함수입니다.\n"
     ]
    }
   ],
   "source": [
    "from emx2 import func1, func3, func4\n",
    "print(func3())\n",
    "print(func4())\n",
    "print(func2())"
   ]
  },
  {
   "cell_type": "code",
   "execution_count": 35,
   "metadata": {},
   "outputs": [
    {
     "name": "stdout",
     "output_type": "stream",
     "text": [
      "C:\\py_text2\n",
      "C:\\py_text2\n",
      "emx1.py\n",
      "emx2.py\n",
      "pytemp\n",
      "__pycache__\n"
     ]
    }
   ],
   "source": [
    "import os \n",
    "# 현재 디렉토리\n",
    "print(os.getcwd())\n",
    "# 경로 제일 마지막에 있는 폴더만 생성\n",
    "# os.mkdir(\"C:\\py_text2\\pytemp\")\n",
    "# 하위폴더까지 생성 \n",
    "#os.makedirs(\"C:\\py_text2\\pytemp\\py1\\py2\")\n",
    "#디렉토리 이동 \n",
    "os.chdir(\"C:\\py_text2\")\n",
    "print(os.getcwd())\n",
    "#입력한 경로의 파일과 폴더목록을 리스트로 반환해주는 함수 \n",
    "os.listdir(\"C:\\py_text2\")\n",
    "for i in os.listdir(\"C:\\py_text2\"):\n",
    "    print(i)"
   ]
  },
  {
   "cell_type": "code",
   "execution_count": 37,
   "metadata": {},
   "outputs": [
    {
     "name": "stdout",
     "output_type": "stream",
     "text": [
      "True\n",
      "True\n"
     ]
    }
   ],
   "source": [
    "#특정폴더가 있는지 확인하는 함수 \n",
    "print(os.path.exists(\"C:\\py_text2\"))\n",
    "print(os.path.exists(\"C:\\py_text2\"))\n",
    "#rmdir() //폴더1개디렉토리삭제\n",
    "#removedir//폴더전체디렉토리삭제\n",
    "os.rmdir(\"C:\\py_text2\\pytemp\\py1\\py2\")\n"
   ]
  },
  {
   "cell_type": "code",
   "execution_count": 41,
   "metadata": {},
   "outputs": [],
   "source": [
    "os.makedirs(\"C:\\py_text2\\pytemp\\py1\\py2\")"
   ]
  },
  {
   "cell_type": "code",
   "execution_count": 42,
   "metadata": {},
   "outputs": [
    {
     "ename": "AttributeError",
     "evalue": "module 'os' has no attribute 'removedirs9'",
     "output_type": "error",
     "traceback": [
      "\u001b[1;31m---------------------------------------------------------------------------\u001b[0m",
      "\u001b[1;31mAttributeError\u001b[0m                            Traceback (most recent call last)",
      "\u001b[1;32mc:\\오유라\\2022.03.22.ipynb Cell 9'\u001b[0m in \u001b[0;36m<cell line: 1>\u001b[1;34m()\u001b[0m\n\u001b[1;32m----> <a href='vscode-notebook-cell:/c%3A/%EC%98%A4%EC%9C%A0%EB%9D%BC/2022.03.22.ipynb#ch0000008?line=0'>1</a>\u001b[0m os\u001b[39m.\u001b[39;49mremovedirs9(\u001b[39m\"\u001b[39m\u001b[39mC:\u001b[39m\u001b[39m\\\u001b[39m\u001b[39mpy_text2\u001b[39m\u001b[39m\\\u001b[39m\u001b[39mpytemp\u001b[39m\u001b[39m\\\u001b[39m\u001b[39mpy1\u001b[39m\u001b[39m\\\u001b[39m\u001b[39mpy2\u001b[39m\u001b[39m\"\u001b[39m)\n",
      "\u001b[1;31mAttributeError\u001b[0m: module 'os' has no attribute 'removedirs9'"
     ]
    }
   ],
   "source": [
    "os.removedirs9(\"오유라\")\n"
   ]
  },
  {
   "cell_type": "code",
   "execution_count": 45,
   "metadata": {},
   "outputs": [
    {
     "ename": "NameError",
     "evalue": "name 'file1' is not defined",
     "output_type": "error",
     "traceback": [
      "\u001b[1;31m---------------------------------------------------------------------------\u001b[0m",
      "\u001b[1;31mNameError\u001b[0m                                 Traceback (most recent call last)",
      "\u001b[1;32mc:\\오유라\\2022.03.22.ipynb Cell 10'\u001b[0m in \u001b[0;36m<cell line: 2>\u001b[1;34m()\u001b[0m\n\u001b[0;32m      <a href='vscode-notebook-cell:/c%3A/%EC%98%A4%EC%9C%A0%EB%9D%BC/2022.03.22.ipynb#ch0000009?line=0'>1</a>\u001b[0m file \u001b[39m=\u001b[39m \u001b[39mopen\u001b[39m(\u001b[39m\"\u001b[39m\u001b[39mtext1.txt\u001b[39m\u001b[39m\"\u001b[39m, \u001b[39m\"\u001b[39m\u001b[39mwt\u001b[39m\u001b[39m\"\u001b[39m)\n\u001b[1;32m----> <a href='vscode-notebook-cell:/c%3A/%EC%98%A4%EC%9C%A0%EB%9D%BC/2022.03.22.ipynb#ch0000009?line=1'>2</a>\u001b[0m file1\u001b[39m.\u001b[39mwrite(\u001b[39m\"\u001b[39m\u001b[39mhello\u001b[39m\u001b[39m\"\u001b[39m)\n\u001b[0;32m      <a href='vscode-notebook-cell:/c%3A/%EC%98%A4%EC%9C%A0%EB%9D%BC/2022.03.22.ipynb#ch0000009?line=2'>3</a>\u001b[0m file1\u001b[39m.\u001b[39mclose()\n\u001b[0;32m      <a href='vscode-notebook-cell:/c%3A/%EC%98%A4%EC%9C%A0%EB%9D%BC/2022.03.22.ipynb#ch0000009?line=3'>4</a>\u001b[0m file2 \u001b[39m=\u001b[39m \u001b[39mopen\u001b[39m(\u001b[39m\"\u001b[39m\u001b[39mtext1.txt\u001b[39m\u001b[39m\"\u001b[39m, \u001b[39m\"\u001b[39m\u001b[39ma\u001b[39m\u001b[39m\"\u001b[39m)\n",
      "\u001b[1;31mNameError\u001b[0m: name 'file1' is not defined"
     ]
    }
   ],
   "source": [
    "file1 = open(\"text1.txt\", \"wt\")\n",
    "file1.write(\"hello\")\n",
    "file1.close()\n",
    "file2 = open(\"text1.txt\", \"a\")\n",
    "file2.write(\"bye\")\n",
    "file2.close"
   ]
  },
  {
   "cell_type": "code",
   "execution_count": 46,
   "metadata": {},
   "outputs": [
    {
     "ename": "NameError",
     "evalue": "name 'file3' is not defined",
     "output_type": "error",
     "traceback": [
      "\u001b[1;31m---------------------------------------------------------------------------\u001b[0m",
      "\u001b[1;31mNameError\u001b[0m                                 Traceback (most recent call last)",
      "\u001b[1;32mc:\\오유라\\2022.03.22.ipynb Cell 11'\u001b[0m in \u001b[0;36m<cell line: 2>\u001b[1;34m()\u001b[0m\n\u001b[0;32m      <a href='vscode-notebook-cell:/c%3A/%EC%98%A4%EC%9C%A0%EB%9D%BC/2022.03.22.ipynb#ch0000010?line=0'>1</a>\u001b[0m file \u001b[39m=\u001b[39m \u001b[39mopen\u001b[39m(\u001b[39m\"\u001b[39m\u001b[39mtext1.txt\u001b[39m\u001b[39m\"\u001b[39m, \u001b[39m\"\u001b[39m\u001b[39mw\u001b[39m\u001b[39m\"\u001b[39m)\n\u001b[1;32m----> <a href='vscode-notebook-cell:/c%3A/%EC%98%A4%EC%9C%A0%EB%9D%BC/2022.03.22.ipynb#ch0000010?line=1'>2</a>\u001b[0m file3\u001b[39m.\u001b[39mwrite(\u001b[39m\"\u001b[39m\u001b[39mhello\u001b[39m\u001b[39m\"\u001b[39m)\n\u001b[0;32m      <a href='vscode-notebook-cell:/c%3A/%EC%98%A4%EC%9C%A0%EB%9D%BC/2022.03.22.ipynb#ch0000010?line=2'>3</a>\u001b[0m file3\u001b[39m.\u001b[39mwrite(\u001b[39m\"\u001b[39m\u001b[39m/n\u001b[39m\u001b[39m\"\u001b[39m)\n\u001b[0;32m      <a href='vscode-notebook-cell:/c%3A/%EC%98%A4%EC%9C%A0%EB%9D%BC/2022.03.22.ipynb#ch0000010?line=3'>4</a>\u001b[0m file3\u001b[39m.\u001b[39mwrite(\u001b[39m\"\u001b[39m\u001b[39mbye\u001b[39m\u001b[39m\"\u001b[39m)\n",
      "\u001b[1;31mNameError\u001b[0m: name 'file3' is not defined"
     ]
    }
   ],
   "source": [
    "file3 = open(\"text1.txt\", \"w\")\n",
    "file3.write(\"hello\")\n",
    "file3.write(\"/n\")\n",
    "file3.write(\"bye\")\n",
    "file3.close()"
   ]
  },
  {
   "cell_type": "code",
   "execution_count": 47,
   "metadata": {},
   "outputs": [
    {
     "data": {
      "text/plain": [
       "''"
      ]
     },
     "execution_count": 47,
     "metadata": {},
     "output_type": "execute_result"
    }
   ],
   "source": [
    "file3 = open(\"text1.txt\", \"rt\")\n",
    "#file3.read1lines()\n",
    "file3.readline()\n",
    "file3.read()\n"
   ]
  },
  {
   "cell_type": "code",
   "execution_count": null,
   "metadata": {},
   "outputs": [],
   "source": []
  }
 ],
 "metadata": {
  "interpreter": {
   "hash": "4e0b39fdc4f2df2992ef135d097972ec225e019845a073717c5b1bc8df292c8a"
  },
  "kernelspec": {
   "display_name": "Python 3.10.2 64-bit",
   "language": "python",
   "name": "python3"
  },
  "language_info": {
   "codemirror_mode": {
    "name": "ipython",
    "version": 3
   },
   "file_extension": ".py",
   "mimetype": "text/x-python",
   "name": "python",
   "nbconvert_exporter": "python",
   "pygments_lexer": "ipython3",
   "version": "3.10.2"
  },
  "orig_nbformat": 4
 },
 "nbformat": 4,
 "nbformat_minor": 2
}
