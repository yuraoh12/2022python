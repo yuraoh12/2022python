{
  "nbformat": 4,
  "nbformat_minor": 0,
  "metadata": {
    "colab": {
      "provenance": [],
      "authorship_tag": "ABX9TyOaJtf5sxLDgeGqBrQnru/m",
      "include_colab_link": true
    },
    "kernelspec": {
      "name": "python3",
      "display_name": "Python 3"
    },
    "language_info": {
      "name": "python"
    }
  },
  "cells": [
    {
      "cell_type": "markdown",
      "metadata": {
        "id": "view-in-github",
        "colab_type": "text"
      },
      "source": [
        "<a href=\"https://colab.research.google.com/github/chacha86/pythonai/blob/main/%EC%9B%B9%EC%8A%A4%ED%81%AC%EB%9E%A9%ED%95%912.ipynb\" target=\"_parent\"><img src=\"https://colab.research.google.com/assets/colab-badge.svg\" alt=\"Open In Colab\"/></a>"
      ]
    },
    {
      "cell_type": "code",
      "execution_count": 54,
      "metadata": {
        "id": "UdMBtdZVsX_c",
        "colab": {
          "base_uri": "https://localhost:8080/"
        },
        "outputId": "0db3df1a-4260-4423-dd2f-6f2acfd7bd12"
      },
      "outputs": [
        {
          "output_type": "execute_result",
          "data": {
            "text/plain": [
              "{'name': 'SBS',\n",
              " 'link': 'https://media.naver.com/press/055/ranking?type=popular'}"
            ]
          },
          "metadata": {},
          "execution_count": 54
        }
      ],
      "source": [
        "\n",
        "import requests\n",
        "\n",
        "## 브라우저인 척 하기위해 헤더 정보에 브라우저 정보 포함\n",
        "headers = {\n",
        "    'User-Agent' : 'Mozilla/5.0 (Windows NT 10.0; Win64; x64) AppleWebKit/537.36 (KHTML, like Gecko) Chrome/102.0.0.0 Safari/537.36'\n",
        "}\n",
        "\n",
        "## 해당 url로 요청 보내서 html 문서 받아오기\n",
        "r = requests.get('https://news.naver.com/main/ranking/popularDay.naver', headers=headers)\n",
        "    \n",
        "## html 문서 가져오기\n",
        "html_doc = r.text\n",
        "\n",
        "## BeautifulSoup 객체에 넘겨 파싱하기(정보를 태그 단위로 쪼개기)\n",
        "from bs4 import BeautifulSoup\n",
        "soup = BeautifulSoup(html_doc, 'html.parser')\n",
        "\n",
        "\n",
        "## css 선택자를 사용하기 위한 함수 =>\n",
        "### 1. select()  => 결과가 list\n",
        "### 2. select_one() => 결과가 1개\n",
        "\n",
        "## 텍스트와 속성값 얻기\n",
        "### 1. 태그.text\n",
        "### 2. 태그[key]\n",
        "###    - key = value\n",
        "\n",
        "# 1. 언론사 이름과 링크 가져오기\n",
        "boxes = soup.select('.rankingnews_box')\n",
        "\n",
        "journal_list = []\n",
        "\n",
        "for box in boxes :\n",
        "\n",
        "  atag = box.select_one('.rankingnews_box_head')\n",
        "  strong = box.select_one('.rankingnews_name')\n",
        "\n",
        "  name = strong.text\n",
        "  link = atag['href']\n",
        "\n",
        "  journal = {\n",
        "      'name' : name,\n",
        "      'link' : link\n",
        "  }\n",
        "\n",
        "  journal_list.append(journal)\n",
        "\n",
        "## 결과 중 YTN만 가져오기\n",
        "target = None\n",
        "for journal in journal_list :\n",
        "  if journal['name'] == 'SBS' :\n",
        "    target = journal\n",
        "    break\n",
        "\n",
        "\n",
        "# 결과 확인\n",
        "target\n"
      ]
    },
    {
      "cell_type": "code",
      "source": [
        "# url을 넘기면 해당 url 페이지의 html을 파싱해서 soup를 만들어주는 함수\n",
        "def get_page(url) :\n",
        "  r2 = requests.get(url, headers=headers)\n",
        "\n",
        "  html_doc2 = r2.text\n",
        "\n",
        "  ## BeautifulSoup 객체에 넘겨 파싱하기(정보를 태그 단위로 쪼개기)\n",
        "  from bs4 import BeautifulSoup\n",
        "  soup = BeautifulSoup(html_doc2, 'html.parser')\n",
        "\n",
        "  return soup\n",
        "\n",
        "\n",
        "\n",
        "## soup를 넘겨주면 해당 soup에서 랭킹 뉴스 20개를 가져오는 함수\n",
        "def get_total_news(page) : \n",
        "  \n",
        "  total_news_list = []\n",
        "  groups = page.select('.press_ranking_box')\n",
        "  for group in groups :\n",
        "    news_list_tmp = get_news_by_group(group)\n",
        "    total_news_list.extend(news_list_tmp)\n",
        "\n",
        "  return total_news_list\n",
        "\n",
        "## 뉴스 그룹을 넘기면 해당 그룹의 뉴스를 모두 가져와 합쳐주는 함수\n",
        "def get_news_by_group(group) :\n",
        "  news_list = []\n",
        "  thumb_list = group.select('.as_thumb')\n",
        "  for news in thumb_list :\n",
        "    atag = news.select_one('a')\n",
        "    link = atag['href']\n",
        "    title = atag.select_one('.list_title').text\n",
        "    \n",
        "    news = {\n",
        "        'title' : title,\n",
        "        'link' : link\n",
        "    }\n",
        "    news_list.append(news)\n",
        "\n",
        "  return news_list\n",
        "\n",
        "\n",
        "## YTN의 url\n",
        "url = target['link']\n",
        "\n",
        "## YTN의 언론사 페이지 정보를 가진 soup\n",
        "soup = get_page(url)\n",
        "\n",
        "## YTN의 랭킹뉴스 20개\n",
        "result = get_total_news(soup)\n",
        "\n",
        "## 결과 확인\n",
        "result"
      ],
      "metadata": {
        "id": "WNcrnrDmBoVn"
      },
      "execution_count": 42,
      "outputs": []
    },
    {
      "cell_type": "code",
      "source": [
        "import json\n",
        "\n",
        "## 파이썬 오브젝트를 json 형식으로 저장하는 함수\n",
        "def save_to_json(filepath, data) :\n",
        "  with open(filepath,'w') as f :  \n",
        "    json_str = json.dumps(data, ensure_ascii=False) \n",
        "    f.write(json_str)\n",
        "\n",
        "\n"
      ],
      "metadata": {
        "id": "IosMoCZ6KnoB"
      },
      "execution_count": 43,
      "outputs": []
    },
    {
      "cell_type": "code",
      "source": [
        "## json 형식의 text를 파이썬 오브젝트로 불러오는 함수\n",
        "def load_to_json(filepath) :\n",
        "  with open(filepath, 'r') as f:\n",
        "    json_str = f.read()\n",
        "    return json.loads(json_str)\n",
        "\n",
        "  \n"
      ],
      "metadata": {
        "id": "Yqld-UzwDGC0"
      },
      "execution_count": 44,
      "outputs": []
    },
    {
      "cell_type": "code",
      "source": [
        "# 3. 랭킹뉴스를 날짜별로\n",
        "\n",
        "# 최근 10일 동안의 뉴스 가져오기\n",
        "\n",
        "## 특정 구간의 날짜 생성하기\n",
        "from datetime import datetime, timedelta\n",
        "\n",
        "def date_range(start, end):\n",
        "    start = datetime.strptime(start, \"%Y%m%d\")\n",
        "    end = datetime.strptime(end, \"%Y%m%d\")\n",
        "    dates = [(start + timedelta(days=i)).strftime(\"%Y%m%d\") for i in range((end-start).days+1)]\n",
        "    return dates\n",
        "\n",
        "dates = date_range(\"20210101\", \"20210109\")\n",
        "\n",
        "\n",
        "\n",
        "\n",
        "## 현재 날짜 가져오기\n",
        "from datetime import datetime, timedelta\n",
        "today = datetime.today()            \n",
        "\n",
        "\n",
        "def get_dates(time) :\n",
        "  ## 날짜 형식을 내가 원하는 대로 바꾸기\n",
        "  formated_today = today.strftime('%Y%m%d')\n",
        "  print(formated_today)\n",
        "\n",
        "\n",
        "  ## 날짜 계산하기\n",
        "\n",
        "  ### 오늘 날짜로 부터 10일 전\n",
        "  start_day = today - timedelta(days=time)\n",
        "  end_day = today\n",
        "\n",
        "  ### 오늘 날짜로 부터 10일 전부터 오늘 날짜까지의 날짜데이터 생성\n",
        "  dates = date_range(start_day.strftime('%Y%m%d'), end_day.strftime('%Y%m%d'))\n",
        "\n",
        "  return dates\n",
        "\n",
        "### 결과 확인\n",
        "dates = get_dates(5)\n",
        "\n",
        "dates"
      ],
      "metadata": {
        "id": "USOa-vH2FOAM"
      },
      "execution_count": null,
      "outputs": []
    },
    {
      "cell_type": "code",
      "source": [
        "# 언론사 링크를 넘기면 최근 n일치의 랭킹 뉴스 링크를 반환하는 함수\n",
        "def get_news_link_by_time(url, dates) :\n",
        "  \n",
        "  link_list = []\n",
        "  url = url + '&date=' \n",
        "\n",
        "  for date in dates :\n",
        "    link = url + date\n",
        "    link_list.append(link)\n",
        "\n",
        "  return link_list\n",
        "\n",
        "\n",
        "## YTN 언론사 링크\n",
        "journal_url1 = target['link']\n",
        "\n",
        "## YTN 언론사의 10일치 랭킹 뉴스 링크\n",
        "news_link_by_time = get_news_link_by_time(journal_url1, dates)\n",
        "\n",
        "## 결과 확인\n",
        "news_link_by_time"
      ],
      "metadata": {
        "colab": {
          "base_uri": "https://localhost:8080/"
        },
        "id": "hDLWNbCGN8is",
        "outputId": "b72c4bb5-f7f6-40f9-fb02-a064ab2ef07f"
      },
      "execution_count": 52,
      "outputs": [
        {
          "output_type": "execute_result",
          "data": {
            "text/plain": [
              "['https://media.naver.com/press/052/ranking?type=popular&date=20230414',\n",
              " 'https://media.naver.com/press/052/ranking?type=popular&date=20230415',\n",
              " 'https://media.naver.com/press/052/ranking?type=popular&date=20230416',\n",
              " 'https://media.naver.com/press/052/ranking?type=popular&date=20230417',\n",
              " 'https://media.naver.com/press/052/ranking?type=popular&date=20230418',\n",
              " 'https://media.naver.com/press/052/ranking?type=popular&date=20230419']"
            ]
          },
          "metadata": {},
          "execution_count": 52
        }
      ]
    },
    {
      "cell_type": "code",
      "source": [
        "\n",
        "# 작성된 함수들을 이용해 10일치 랭킹뉴스 모두 가져와 json파일로 저장하기\n",
        "\n",
        "## news_link_by_time -> 20230409 ~ 20230419 까지의 YTN 랭킹 뉴스 링크\n",
        "## get_page(link) -> link의 html 문서를 파싱해서 soup를 반환\n",
        "## get_total_news(soup) -> soup에서 랭킹 뉴스를 스크랩하는 함수\n",
        "## dates => 20230409 ~ 20230419 날짜 정보\n",
        "\n",
        "\n",
        "for date, news_link in zip(dates, news_link_by_time) : # 10일치의 뉴스 링크를 for문으로 하나씩 빼서\n",
        "  soup = get_page(news_link) # 해당 링크의 페이지를 soup형태로 얻고\n",
        "  news_list = get_total_news(soup) # 20개의 랭킹뉴스를 얻어오는 함수에 넣어 \n",
        "  save_to_json(f'YTN_{date}.json', news_list) # 결과를 파일로 저장한다.\n",
        "\n"
      ],
      "metadata": {
        "id": "VL5UDYeKR25G"
      },
      "execution_count": null,
      "outputs": []
    },
    {
      "cell_type": "code",
      "source": [
        "# 실습 -> 3개의 언론사 (SBS, MBC, KBS)의 랭킹 뉴스를 최근 5일치 가져와서 각각 저장.\n",
        "# 언론사별로 폴더를 나눠서 저장\n",
        "\n",
        "def save_news_by_time(time, journal) :\n",
        "\n",
        "  dates = get_dates(time)\n",
        "  jname = journal['name']\n",
        "  jlink = journal['link']\n",
        "\n",
        "  news_link_by_time = get_news_link_by_time(jlink, dates)\n",
        "\n",
        "  for date, news_link in zip(dates, news_link_by_time) : # 10일치의 뉴스 링크를 for문으로 하나씩 빼서\n",
        "    soup = get_page(news_link) # 해당 링크의 페이지를 soup형태로 얻고\n",
        "    news_list = get_total_news(soup) # 20개의 랭킹뉴스를 얻어오는 함수에 넣어 \n",
        "    save_to_json(f'{jname}/{jname}_{date}.json', news_list) # 결과를 파일로 저장한다."
      ],
      "metadata": {
        "id": "ywyUoL8JcNqZ"
      },
      "execution_count": 57,
      "outputs": []
    },
    {
      "cell_type": "code",
      "source": [
        "# 실습 -> 3개의 언론사 (SBS, MBC, KBS)의 랭킹 뉴스를 최근 5일치 가져와서 각각 저장.\n",
        "# 언론사별로 폴더를 나눠서 저장\n",
        "save_news_by_time(5, target)\n",
        "\n",
        "\n",
        "\n"
      ],
      "metadata": {
        "id": "cfl52RvrkfcD"
      },
      "execution_count": null,
      "outputs": []
    },
    {
      "cell_type": "code",
      "source": [
        "# \n",
        "  \n",
        "\n"
      ],
      "metadata": {
        "id": "U4os9AZalmQY"
      },
      "execution_count": null,
      "outputs": []
    },
    {
      "cell_type": "code",
      "source": [
        "# 4. 특정 뉴스의 댓글 통계 정보"
      ],
      "metadata": {
        "id": "Lev2skCsaEsv"
      },
      "execution_count": null,
      "outputs": []
    }
  ]
}