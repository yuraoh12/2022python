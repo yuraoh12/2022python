{
 "cells": [
  {
   "cell_type": "code",
   "execution_count": 1,
   "metadata": {},
   "outputs": [
    {
     "name": "stdout",
     "output_type": "stream",
     "text": [
      "0    1\n",
      "1    2\n",
      "2    3\n",
      "3    4\n",
      "4    8\n",
      "dtype: int64\n"
     ]
    }
   ],
   "source": [
    "# 정수형 series만들기\n",
    "import pandas as pd\n",
    "s=pd.Series([1,2,3,4,8])\n",
    "print(s)"
   ]
  },
  {
   "cell_type": "code",
   "execution_count": 2,
   "metadata": {},
   "outputs": [
    {
     "name": "stdout",
     "output_type": "stream",
     "text": [
      "0    1\n",
      "1    3\n",
      "2    2\n",
      "3    5\n",
      "4    3\n",
      "5    6\n",
      "6    2\n",
      "7    3\n",
      "8    1\n",
      "9    2\n",
      "dtype: int64\n"
     ]
    }
   ],
   "source": [
    "# 정수형  series\n",
    "s = pd.Series([1,3,2,5,3,6,2,3,1,2])\n",
    "print(s)"
   ]
  },
  {
   "cell_type": "code",
   "execution_count": 3,
   "metadata": {},
   "outputs": [
    {
     "name": "stdout",
     "output_type": "stream",
     "text": [
      "0    1\n",
      "1    2\n",
      "2    5\n",
      "3    3\n",
      "4    8\n",
      "5    9\n",
      "6    7\n",
      "dtype: int64\n"
     ]
    }
   ],
   "source": [
    "# 실수형  series\n",
    "s = pd.Series([1,2,5,3,8,9,7])\n",
    "print(s)"
   ]
  },
  {
   "cell_type": "code",
   "execution_count": 14,
   "metadata": {},
   "outputs": [
    {
     "name": "stdout",
     "output_type": "stream",
     "text": [
      "a    1\n",
      "b    2\n",
      "c    5\n",
      "d    3\n",
      "e    8\n",
      "dtype: int64\n"
     ]
    }
   ],
   "source": [
    "# 인덱스 지정 \n",
    "s = pd.Series([1,2,5,3,8], index=['a', 'b', 'c', 'd', 'e'])\n",
    "print(s)"
   ]
  },
  {
   "cell_type": "code",
   "execution_count": 8,
   "metadata": {},
   "outputs": [
    {
     "name": "stdout",
     "output_type": "stream",
     "text": [
      "[1 2 3]\n",
      "[0. 0. 0. 0. 0.]\n",
      "[[1. 1. 1.]\n",
      " [1. 1. 1.]]\n"
     ]
    }
   ],
   "source": [
    "import numpy as np\n",
    "a = np.array([1,2,3])\n",
    "print(a)\n",
    "b = np.zeros(5)\n",
    "print(b)\n",
    "c = np.ones((2,3))\n",
    "print(c)"
   ]
  },
  {
   "cell_type": "code",
   "execution_count": 13,
   "metadata": {},
   "outputs": [
    {
     "name": "stdout",
     "output_type": "stream",
     "text": [
      "[5 5 5 5]\n",
      "[4 6 6 4]\n",
      "2.5\n"
     ]
    }
   ],
   "source": [
    "a = np.array([1,2,3,4])\n",
    "b = np.array([4,3,2,1])\n",
    "# 요소별 합\n",
    "print(np.add(a, b))\n",
    "# 요소별 곱\n",
    "print(np.multiply(a, b))\n",
    "# 어레이 값의 평균 \n",
    "print(np.mean(b))\n",
    "\n"
   ]
  },
  {
   "cell_type": "code",
   "execution_count": 16,
   "metadata": {},
   "outputs": [
    {
     "name": "stdout",
     "output_type": "stream",
     "text": [
      "[[0.77752841 0.68834703 0.15973385 0.81324119 0.30684501]\n",
      " [0.60300233 0.47043917 0.34753018 0.38761449 0.87718077]]\n",
      "[[ 0.2429745   0.99711603 -0.9449383  -0.45154583]\n",
      " [-0.47249681  0.35231381  0.53793617  0.58683853]]\n"
     ]
    }
   ],
   "source": [
    "# 0과 1사이에서 균일한 분포를 갖는 숫자 샘플형 \n",
    "a = np.random.rand(2,5)\n",
    "print(a)\n",
    "\n",
    "# 표준정규분포를 갖는 숫자들 샘플링\n",
    "b = np.random.randn(2,4)\n",
    "print(b)\n"
   ]
  },
  {
   "cell_type": "code",
   "execution_count": 19,
   "metadata": {},
   "outputs": [
    {
     "name": "stdout",
     "output_type": "stream",
     "text": [
      "3.141592653589793\n",
      "2.718281828459045\n"
     ]
    }
   ],
   "source": [
    "# 파이 \n",
    "a = np.pi\n",
    "print(a)\n",
    "#오일러상수\n",
    "b = np.e\n",
    "print(b)"
   ]
  },
  {
   "cell_type": "code",
   "execution_count": 21,
   "metadata": {},
   "outputs": [
    {
     "name": "stdout",
     "output_type": "stream",
     "text": [
      "<class 'numpy.ndarray'>\n",
      "[1 2 5 6 8]\n",
      "int32\n"
     ]
    }
   ],
   "source": [
    "a = np.array([1,2,5,6,8])\n",
    "print(type(a))\n",
    "print(a)\n",
    "print(a.dtype)"
   ]
  },
  {
   "cell_type": "code",
   "execution_count": null,
   "metadata": {},
   "outputs": [],
   "source": []
  }
 ],
 "metadata": {
  "interpreter": {
   "hash": "4e0b39fdc4f2df2992ef135d097972ec225e019845a073717c5b1bc8df292c8a"
  },
  "kernelspec": {
   "display_name": "Python 3.10.2 64-bit",
   "language": "python",
   "name": "python3"
  },
  "language_info": {
   "codemirror_mode": {
    "name": "ipython",
    "version": 3
   },
   "file_extension": ".py",
   "mimetype": "text/x-python",
   "name": "python",
   "nbconvert_exporter": "python",
   "pygments_lexer": "ipython3",
   "version": "3.10.2"
  },
  "orig_nbformat": 4
 },
 "nbformat": 4,
 "nbformat_minor": 2
}
