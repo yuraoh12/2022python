{
 "cells": [
  {
   "cell_type": "code",
   "execution_count": 1,
   "metadata": {},
   "outputs": [
    {
     "name": "stdout",
     "output_type": "stream",
     "text": [
      "{'1월': 31, '2월': 28, '3월': 31}\n"
     ]
    }
   ],
   "source": [
    "month = {\"1월\" : 31, \"2월\" : 28, \"3월\" : 31}\n",
    "print(month)"
   ]
  },
  {
   "cell_type": "code",
   "execution_count": 5,
   "metadata": {},
   "outputs": [
    {
     "name": "stdout",
     "output_type": "stream",
     "text": [
      "{'1월': 31}\n",
      "{'1월': 31, '2월': 28}\n",
      "{'1월': 31, '2월': 28, '3월': 31}\n",
      "{'1월': 31, '2월': 28, '3월': 28}\n"
     ]
    }
   ],
   "source": [
    "# 문제 : 딕셔너리에 각 달의 마지막 날들을 반복문을 통해 담기\n",
    "# 빈 딕셔너리 먼저 넣어준다. [키값] = [value]\n",
    "# 빈 딕셔너리는 빈값이라서 새로운 값을 넣어도  값이 바뀐다. \n",
    "month = {} \n",
    "month[\"1월\"] = 31\n",
    "print(month)\n",
    "month[\"2월\"] = 28\n",
    "print(month)\n",
    "month[\"3월\"] = 31\n",
    "print(month)\n",
    "month[\"3월\"] = 28\n",
    "print(month)\n"
   ]
  },
  {
   "cell_type": "code",
   "execution_count": 9,
   "metadata": {},
   "outputs": [
    {
     "name": "stdout",
     "output_type": "stream",
     "text": [
      "{'1월': 31, '2월': 28, '3월': 31, '4월': 30, '5월': 31, '6월': 30, '7월': 31, '8월': 31, '9월': 30, '10월': 31, '11월': 30, '12월': 31}\n"
     ]
    }
   ],
   "source": [
    "# 1. 빈딕셔너리 1개 만든다.\n",
    "# 2. 반복문(1월~12월)\n",
    "# 3. 조건문( 2월일땐 28일, 4,6,9,11일땐 30일, 그외는 31일)\n",
    "# 4. 딕셔너리이름[반복문(1월~12월) = 2월일땐 28일, 4,6,9,11일땐 30일, 그외는 31일]\n",
    "month_end_days = {}\n",
    "for i in range(1, 12+1):\n",
    "    month = str(i)+\"월\"\n",
    "    endday = 31\n",
    "    if i == 2:\n",
    "        endday = 28\n",
    "    elif i in [4, 6, 9, 11] :\n",
    "        endday = 30\n",
    "    month_end_days[month] = endday\n",
    "print(month_end_days)"
   ]
  },
  {
   "cell_type": "code",
   "execution_count": 12,
   "metadata": {},
   "outputs": [
    {
     "name": "stdout",
     "output_type": "stream",
     "text": [
      "{'28월': 28, '31월': 30, '33월': 31}\n"
     ]
    }
   ],
   "source": [
    "# 문제 : 딕셔너리에 각 달의 마지막 날들을 반복문을 통해 담기\n",
    "month_end_days = {}\n",
    "month_end_days_list = {31,28,31,30,31,30,31,31,30,31,30,31}\n",
    "\n",
    "for i, j in enumerate(month_end_days_list):\n",
    "    month = str(i+j)+\"월\"\n",
    "    month_end_days[month] = j\n",
    "print(month_end_days)"
   ]
  },
  {
   "cell_type": "code",
   "execution_count": 13,
   "metadata": {},
   "outputs": [
    {
     "name": "stdout",
     "output_type": "stream",
     "text": [
      "31\n",
      "28\n",
      "31\n"
     ]
    }
   ],
   "source": [
    "# 문제 : 딕셔너리에 각 달의 마지막 날들을 한번에 담고, 수작업으로 순회출력\n",
    "m = {}\n",
    "m[\"1월\"] = 31\n",
    "m[\"2월\"] = 28\n",
    "m[\"3월\"] = 31\n",
    "print(m[\"1월\"])\n",
    "\n",
    "print(m[\"2월\"])\n",
    "\n",
    "print(m[\"3월\"])\n",
    "\n",
    "\n"
   ]
  },
  {
   "cell_type": "code",
   "execution_count": 16,
   "metadata": {},
   "outputs": [
    {
     "ename": "SyntaxError",
     "evalue": "invalid syntax (3430779611.py, line 3)",
     "output_type": "error",
     "traceback": [
      "\u001b[1;36m  Input \u001b[1;32mIn [16]\u001b[1;36m\u001b[0m\n\u001b[1;33m    m{\"1월\"} = 31\u001b[0m\n\u001b[1;37m     ^\u001b[0m\n\u001b[1;31mSyntaxError\u001b[0m\u001b[1;31m:\u001b[0m invalid syntax\n"
     ]
    }
   ],
   "source": [
    "# 문제 : 딕셔너리에 각 달의 마지막 날들을 한버에 담고, keys()로 key 순회출력\n",
    "m = {}\n",
    "m{\"1월\"} = 31\n",
    "m{\"2월\"} = 28\n",
    "m{\"3월\"} = 28 \n",
    "for key in m.keys():\n",
    "    print(key)\n",
    "for key in m:\n",
    "    print(key)"
   ]
  },
  {
   "cell_type": "code",
   "execution_count": null,
   "metadata": {},
   "outputs": [],
   "source": []
  }
 ],
 "metadata": {
  "interpreter": {
   "hash": "4e0b39fdc4f2df2992ef135d097972ec225e019845a073717c5b1bc8df292c8a"
  },
  "kernelspec": {
   "display_name": "Python 3.10.2 64-bit",
   "language": "python",
   "name": "python3"
  },
  "language_info": {
   "codemirror_mode": {
    "name": "ipython",
    "version": 3
   },
   "file_extension": ".py",
   "mimetype": "text/x-python",
   "name": "python",
   "nbconvert_exporter": "python",
   "pygments_lexer": "ipython3",
   "version": "3.10.2"
  },
  "orig_nbformat": 4
 },
 "nbformat": 4,
 "nbformat_minor": 2
}
